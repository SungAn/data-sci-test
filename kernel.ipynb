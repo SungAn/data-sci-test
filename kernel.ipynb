{
  "cells": [
    {
      "metadata": {
        "_uuid": "45268c1e112125963f6b06bee592b6df38655975"
      },
      "cell_type": "markdown",
      "source": "# Technical Test for Seedbox"
    },
    {
      "metadata": {
        "_uuid": "8f2839f25d086af736a60e9eeb907d3b93b6e0e5",
        "_cell_guid": "b1076dfc-b9ad-4769-8c92-a6c4dae69d19",
        "trusted": true
      },
      "cell_type": "code",
      "source": "import numpy as np # linear algebra\nimport pandas as pd # data processing, CSV file I/O (e.g. pd.read_csv)\nimport os\nimport io\nfrom scipy import stats\n\n#useful helper functions are below\n\ndef add(t, d):\n    key = t[1]\n    if key in d:\n        array = d[key] # array = [rebill#, refund#, chargeback#, gains, losses]\n    else:\n        array = [0,0,0,0,0]\n    if t[2]==\"\\\"REBILL\\\"\":\n        array[0]+=1\n        array[3]+=float(t[3])\n    elif t[2] == \"\\\"REFUND\\\"\":\n        array[1]+=1\n        array[4]+=float(t[3])\n    else: # chargeback\n        array[2]+=1\n        array[4]+=float(t[3])\n    d[key]=array\n\n#Helper to calc probabilities\ndef probCalc(nDict):\n    PRb = PRf = PCb = 0 # set p of Rebill, Refund, and Chargeback\n    for key, val in nDict.items():\n        PRb += val[0]\n        PRf += val[1]\n        PCb += val[2]\n    Tot = PRb + PRf + PCb\n    PRb = PRb/Tot\n    PRf = PRf/Tot\n    PCb = PCb/Tot\n    return PRb, PRf, PCb\n\n# Helper to calculate revenue (also get components of revenue; gains and losses)\ndef RevCalc(nDict):\n    gain = loss = 0\n    for key,val in nDict.items():\n        gain+=val[3]\n        loss+=val[4]\n    rev = gain+loss # because loss is a negative number\n    return gain, loss, rev\n\n# Helper for counting users, the index i refers to rebill = 0, refund = 1, and chargeback = 2\ndef count(nDict, i): \n    count = 0\n    for key,val in nDict.items():\n        if val[i]>0:\n            count+=1\n    return count\n\n#Reading files\nf1 = open('../input/testSamples.csv','r')\ngroup = []\nheader = f1.readline()\nfor line in f1:\n    line = line.strip()\n    tokens = line.split(\",\")\n    group.append(int(tokens[1]))\n\ntrans = []\nf2 = open('../input/transData.csv', 'r')\nheader2 = f2.readline()\nfor line in f2:\n    line = line.strip()\n    tokens = line.split(\",\")\n    trans.append(tokens)\n\n# sample ID is sample index\ntDict = {}\ncDict = {}\nfor t in trans:\n    sID = int(t[1])\n    if group[sID]==0: # control\n        add(t, cDict)\n    else: # test\n        add(t, tDict)\n#   tDict is test list; call-in\n#   cDict is control; web-form",
      "execution_count": 78,
      "outputs": [
        {
          "output_type": "stream",
          "text": "['testSamples.csv', 'transData.csv']\n",
          "name": "stdout"
        }
      ]
    },
    {
      "metadata": {
        "_uuid": "70cba34e1d29b8c79008329bf70e5d09be04ff6b"
      },
      "cell_type": "markdown",
      "source": "## Question 1: Probability Distribution"
    },
    {
      "metadata": {
        "_cell_guid": "79c7e3d0-c299-4dcb-8224-4455121ee9b0",
        "_uuid": "d629ff2d2480ee46fbb7e2d37f6b5fab8052498a",
        "trusted": true,
        "scrolled": true
      },
      "cell_type": "code",
      "source": "import matplotlib.pyplot as plt\n#    What is the aproximate probability distribution between the test group and the control group\nPctrl = list(probCalc(cDict))\nPtest = list(probCalc(tDict))\nxLabels = [\"REBILL\", \"REFUND\", \"CHARGEBACK\"]\nprint(\"Probability Distribution: \")\nplt.bar(xLabels, Pctrl)\nplt.title(\"Control\")\nplt.show()\nplt.bar(xLabels, Ptest)\nplt.title(\"Test\")\nplt.show()",
      "execution_count": 104,
      "outputs": [
        {
          "output_type": "stream",
          "text": "Probability Distribution: \n",
          "name": "stdout"
        },
        {
          "output_type": "display_data",
          "data": {
            "text/plain": "<Figure size 432x288 with 1 Axes>",
            "image/png": "[encoded data removed]"
          },
          "metadata": {
            "needs_background": "light"
          }
        },
        {
          "output_type": "display_data",
          "data": {
            "text/plain": "<Figure size 432x288 with 1 Axes>",
            "image/png": "[encoded data removed]"
          },
          "metadata": {
            "needs_background": "light"
          }
        }
      ]
    },
    {
      "metadata": {
        "_uuid": "6951cb0c355c9c6d4700d378004564b39245c1e8"
      },
      "cell_type": "markdown",
      "source": "## Q 2: Is a user that must call-in to cancel more likely to generate at least 1 additional REBILL?"
    },
    {
      "metadata": {
        "trusted": true,
        "_uuid": "1372fd481d89b9b2d0851ae515d95989535c8dfe"
      },
      "cell_type": "code",
      "source": "\n#    compare t vs c at Rebills (% of ppl that rebill)\nPCRebill = count(cDict, 0)/len(cDict)\nPTRebill = count(tDict, 0)/len(tDict)\nprint(\"Answer according to average rebills: \", PTRebill>PCRebill)\nprint(\"mean Test rebill count: \", PTRebill, \"\\nmean Control rebill count: \", PCRebill)\n\n#First get data as [yes rebill, no rebill]\nCvals = [0,0]\nc = []\nTvals = [0,0]\nt = []\nfor key,val in cDict.items():\n    if (val[0]>0):\n        Cvals[0]+=1\n        c.append(1)\n    else:\n        Cvals[1]+=1\n        c.append(0)\nfor key,val in tDict.items():\n    if val[0]>0:\n        Tvals[0]+=1\n        t.append(1)\n    else:\n        Tvals[1]+=1\n        t.append(0)\nsig = stats.chisquare(f_obs=Tvals,f_exp=Cvals)\nprint(\"Chi squared test answers: \\n\", sig)\n\nsig2 = stats.ttest_ind(c,t)\nprint(\"According to t-test: \\n\", sig2)\n\n\n",
      "execution_count": 105,
      "outputs": [
        {
          "output_type": "stream",
          "text": "Answer according to average rebills:  True\nmean Test rebill count:  0.9212962962962963 \nmean Control rebill count:  0.9196515004840271\nChi squared test answers: \n Power_divergenceResult(statistic=973.2523589093215, pvalue=1.1703553710034553e-213)\nAccording to t-test: \n Ttest_indResult(statistic=-0.13463928884817275, pvalue=0.8929070673835524)\n",
          "name": "stdout"
        }
      ]
    },
    {
      "metadata": {
        "_uuid": "acc57f4fa7677e272b089cd80280e07640db0cb6"
      },
      "cell_type": "markdown",
      "source": "Although the chi square indicates that the numbers are extremely related in both test and control groups and the average is higher for test-groups rebilling, the t-test indicates that this difference in values is not significant between control and test groups.\n\n**Answer: ** There is no major significance between the web-form users and call-in users when it comes to generating additional rebills"
    },
    {
      "metadata": {
        "_uuid": "7fefda5f310b47c0bc7f3fba3776fc4252087b04"
      },
      "cell_type": "markdown",
      "source": "## Question 3: Is a user that must call-in to cancel more likely to generate more revenues?"
    },
    {
      "metadata": {
        "trusted": true,
        "scrolled": false,
        "_uuid": "2cb72b2ff823c9efb59f0f5aa4e5c0a3a7085343"
      },
      "cell_type": "code",
      "source": "cTotals = RevCalc(cDict)\ntTotals = RevCalc(tDict)\ncRev = cTotals[2]/len(cDict)\ntRev = tTotals[2]/len(tDict)\n# can also treat individual revenues via standard deviation, chose to use means\n\nprint( tRev>cRev, \"\\nmean Test revenue: \", tRev,\"\\nmean Control revenue: \", cRev)\nprint(\"Control gain vs loss: \", cTotals[0]/len(cDict), cTotals[1]/len(cDict), \"\\nTest gain vs loss: \", tTotals[0]/len(tDict), tTotals[1]/len(tDict))\n\ntRevList = [val[3]+val[4] for key,val in tDict.items()]\ncRevList = [val[3]+val[4] for key,val in cDict.items()]\nsig = stats.ttest_ind(cRevList,tRevList)\nprint(\"According to t-test: \\n\", sig)\n",
      "execution_count": 106,
      "outputs": [
        {
          "output_type": "stream",
          "text": "False \nmean Test revenue:  64.60655864197533 \nmean Control revenue:  69.41304453049337\nControl gain vs loss:  74.06227008712453 -4.649225556631171 \nTest gain vs loss:  69.77824074074076 -5.17168209876543\nAccording to t-test: \n Ttest_indResult(statistic=1.3602781012520437, pvalue=0.17385498722854761)\n",
          "name": "stdout"
        }
      ]
    },
    {
      "metadata": {
        "_uuid": "8e71b843d57c5cab9069425ae06e5b5b330f7af2"
      },
      "cell_type": "markdown",
      "source": "The averages between control and test revenues indicate that the control actually makes more money (using the webform). Furthermore, using the t-test it is evident that this is not very significant, with p of 0.17\n\n**Answer: ** Users who must call-in are not more likely to generate more revenue compared to the web-form, in fact the web-form users have a higher revenue on average"
    },
    {
      "metadata": {
        "_uuid": "841ece117d3455be34fcdd09e3848e95bd1f44bc"
      },
      "cell_type": "markdown",
      "source": "## Question 4: Is a user that must call-in more likely to produce a higher chargeback rate?\n\n\n"
    },
    {
      "metadata": {
        "trusted": true,
        "scrolled": true,
        "_uuid": "5bcf9fadd35016cce82cf0be545320dee8f26347"
      },
      "cell_type": "code",
      "source": "#    Is a user that must call-in more likely to produce a higher chargeback rate(CHARGEBACKs/REBILLs)?\n    # can also compare the variance in chargeback and variance in rebill, but chose not to because sample is not random (biased distribution)\n    # therefore, calculate average chargebacks and average rebills\nTRate = count(tDict,0)/count(tDict,2)/len(tDict)\nCRate = count(cDict,0)/count(cDict,2)/len(cDict)\nprint(TRate>CRate)\n\ntRevList = [val[3]/val[4] for key,val in tDict.items() if((val[0]>0)&(val[2]>0))]\ncRevList = [val[3]/val[4] for key,val in cDict.items() if((val[0]>0)&(val[2]>0))]\nsig = stats.ttest_ind(cRevList,tRevList)\nprint(\"According to t-test: \", sig)",
      "execution_count": 107,
      "outputs": [
        {
          "output_type": "stream",
          "text": "True\nAccording to t-test:  Ttest_indResult(statistic=1.1225749055651701, pvalue=0.30452063558041104)\n",
          "name": "stdout"
        }
      ]
    },
    {
      "metadata": {
        "_uuid": "2d5a5110fb49b14e329d9e99761107e147017dc9"
      },
      "cell_type": "markdown",
      "source": "When looking at average chargeback rates, the test group is larger. \n\nThe rate for the Test is:  **0.043871252204585535 **\n\nThe rate for the Control is:  **0.015076254106295527**\n\nHowever, according to the t-test this is not significant (high p value).\n\n**Answer:** Users who call in have a higher average chargeback rate, however, the test requires more power to prove significance"
    },
    {
      "metadata": {
        "trusted": true,
        "_uuid": "09293bd11c4e908715ed71fdf224c79444401843"
      },
      "cell_type": "code",
      "source": "",
      "execution_count": null,
      "outputs": []
    }
  ],
  "metadata": {
    "kernelspec": {
      "display_name": "Python 3",
      "language": "python",
      "name": "python3"
    },
    "language_info": {
      "name": "python",
      "version": "3.6.6",
      "mimetype": "text/x-python",
      "codemirror_mode": {
        "name": "ipython",
        "version": 3
      },
      "pygments_lexer": "ipython3",
      "nbconvert_exporter": "python",
      "file_extension": ".py"
    }
  },
  "nbformat": 4,
  "nbformat_minor": 1
}